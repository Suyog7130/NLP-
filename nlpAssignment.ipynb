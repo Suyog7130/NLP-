{
 "cells": [
  {
   "cell_type": "markdown",
   "metadata": {},
   "source": [
    "## NLP Assignment"
   ]
  },
  {
   "cell_type": "code",
   "execution_count": 1,
   "metadata": {},
   "outputs": [],
   "source": [
    "import os\n",
    "import numpy as np\n",
    "import pandas as pd\n",
    "import matplotlib.pyplot as plt\n",
    "\n",
    "from sklearn.feature_extraction.text import TfidfVectorizer\n",
    "from sklearn.metrics import classification_report as cr\n",
    "from sklearn import svm"
   ]
  },
  {
   "cell_type": "code",
   "execution_count": 4,
   "metadata": {},
   "outputs": [],
   "source": [
    "#-- get the data --#\n",
    "def getData ():\n",
    "    \n",
    "    dfTrain = pd.read_csv('LabelledData (1).txt', sep=' ,,, ', header=None, engine='python')\n",
    "    dfTrain.columns = ['ques', 'type']\n",
    "    trainData, trainLabels = dfTrain.ques.to_list(), dfTrain.type.to_list()  #--the train data.\n",
    "    \n",
    "    \"\"\"\n",
    "    #dfTest = pd.read_csv('train_1000.label', sep='\\s+', header=None)\n",
    "    #dfTest = pd.read_csv('LabelledData (1).txt', sep=' ,,, ', header=None, engine='python')\n",
    "    \n",
    "    f = open('train_1000.label', 'r', errors='ignore').read().split('\\n')\n",
    "    testData, testLabels, testType = [], [], []\n",
    "    for line in f[:len(f)-1]:\n",
    "        short = line[:20]\n",
    "        tlabel = short.split(':')[0]\n",
    "        testLabels.append(tlabel)\n",
    "        ttype = short.split(' ')[0].split(':')[1]\n",
    "        testType.append(ttype)\n",
    "        tdata = line[len(tlabel):]\n",
    "        testData.append(tdata)\n",
    "    #print(testLabels); print(testType)\"\"\"\n",
    "    \n",
    "    cut = 500\n",
    "    trainDataOld, trainLabelsOld = trainData, trainLabels\n",
    "    trainData = trainDataOld[:cut]  #int(len(trainData)/2)\n",
    "    trainLabels = trainLabelsOld[:cut]\n",
    "    testData = trainDataOld[cut:]\n",
    "    testLabels = trainLabelsOld[cut:]\n",
    "    \n",
    "    return (trainData, trainLabels, testData, testLabels)"
   ]
  },
  {
   "cell_type": "code",
   "execution_count": 12,
   "metadata": {},
   "outputs": [],
   "source": [
    "def classify (trainData, trainLabels, testData, testLabels):    \n",
    "    \n",
    "    #-- vectorizing and training --#\n",
    "    vectorizer = TfidfVectorizer(min_df=4, max_df=0.9)\n",
    "    trainVectors = vectorizer.fit_transform(trainData)\n",
    "    testVectors = vectorizer.transform(testData)\n",
    "    \n",
    "    #-- performing the classification --#\n",
    "    model = svm.SVC(kernel='linear')\n",
    "    model.fit(trainVectors, trainLabels)\n",
    "    prediction = model.predict(testVectors)\n",
    "    \n",
    "    print (cr(testLabels, prediction))"
   ]
  },
  {
   "cell_type": "code",
   "execution_count": 13,
   "metadata": {},
   "outputs": [
    {
     "name": "stdout",
     "output_type": "stream",
     "text": [
      "              precision    recall  f1-score   support\n",
      "\n",
      "        what       0.00      0.00      0.00         2\n",
      "         who       0.00      0.00      0.00         1\n",
      " affirmation       0.00      0.00      0.00       104\n",
      "     unknown       0.70      0.85      0.77       139\n",
      "        what       0.75      0.97      0.84       310\n",
      "        when       0.92      0.71      0.80        82\n",
      "         who       0.98      0.99      0.99       345\n",
      "\n",
      "    accuracy                           0.83       983\n",
      "   macro avg       0.48      0.50      0.49       983\n",
      "weighted avg       0.76      0.83      0.79       983\n",
      "\n"
     ]
    },
    {
     "name": "stderr",
     "output_type": "stream",
     "text": [
      "/home/suyog/.local/lib/python3.6/site-packages/sklearn/metrics/_classification.py:1272: UndefinedMetricWarning: Precision and F-score are ill-defined and being set to 0.0 in labels with no predicted samples. Use `zero_division` parameter to control this behavior.\n",
      "  _warn_prf(average, modifier, msg_start, len(result))\n"
     ]
    }
   ],
   "source": [
    "trainData, trainLabels, testData, testLabels = getData()\n",
    "classify(trainData, trainLabels, testData, testLabels)"
   ]
  },
  {
   "cell_type": "code",
   "execution_count": null,
   "metadata": {},
   "outputs": [],
   "source": []
  }
 ],
 "metadata": {
  "kernelspec": {
   "display_name": "Python 3",
   "language": "python",
   "name": "python3"
  },
  "language_info": {
   "codemirror_mode": {
    "name": "ipython",
    "version": 3
   },
   "file_extension": ".py",
   "mimetype": "text/x-python",
   "name": "python",
   "nbconvert_exporter": "python",
   "pygments_lexer": "ipython3",
   "version": "3.6.9"
  }
 },
 "nbformat": 4,
 "nbformat_minor": 4
}
